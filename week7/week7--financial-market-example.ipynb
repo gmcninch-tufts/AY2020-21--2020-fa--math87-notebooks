{
 "cells": [
  {
   "cell_type": "markdown",
   "metadata": {},
   "source": [
    "Math087 - Mathematical Modeling\n",
    "===============================\n",
    "[Tufts University](http://www.tufts.edu) -- [Department of Math](http://math.tufts.edu)  \n",
    "[George McNinch](http://gmcninch.math.tufts.edu) <george.mcninch@tufts.edu>  \n",
    "*Fall 2020*\n",
    "\n",
    "Course material (Week 7): Example: financial markets\n",
    "--------------------------------------------------------"
   ]
  },
  {
   "cell_type": "markdown",
   "metadata": {},
   "source": [
    "Financial market example\n",
    "=========================\n",
    "\n",
    "Consider the state of a financial market from week to week. \n",
    "\n",
    "- by a *bull market* we mean a week of generally rising prices. \n",
    "- by a *bear market* we mean a week of genreally declining prices.\n",
    "- by a *recession* we mean a general slowdown of the economy.\n",
    "\n",
    "Empirical observation shows for each of these three states what the probability of the state for the subsequent week, as follows:\n",
    "\n",
    "|   following week | *bull*   | *bear*   | *recession*| \n",
    "| :--------------- | -------: | -------: | ---------: |\n",
    "|     bull         | 0.90     | 0.15     | 0.25      |\n",
    "|     bear         | 0.075    | 0.80     | 0.25       |\n",
    "|     recession    | 0.025    | 0.05     | 0.50       |\n",
    "\n",
    "In words, the first col indicates that if one has a bull market, then 90% of the time the next week is a bull market, 7.5% of the time the next week is a bear market, and 2.5% of the time the next week is in recession."
   ]
  },
  {
   "cell_type": "code",
   "execution_count": null,
   "metadata": {},
   "outputs": [],
   "source": [
    "from graphviz import Digraph\n",
    "\n",
    "fin = Digraph(\"financial\")\n",
    "fin.node(\"bear\")\n",
    "fin.node(\"bull\")\n",
    "fin.node(\"recession\")\n",
    "\n",
    "fin.edge(\"bear\",\"bull\",\"0.15\")\n",
    "fin.edge(\"bear\",\"bear\",\"0.80\")\n",
    "fin.edge(\"bear\",\"recession\",\"0.05\")\n",
    "\n",
    "fin.edge(\"bull\",\"bull\",\"0.90\")\n",
    "fin.edge(\"bull\",\"bear\",\"0.075\")\n",
    "fin.edge(\"bull\",\"recession\",\"0.025\")\n",
    "\n",
    "fin.edge(\"recession\",\"recession\",\"0.50\")\n",
    "fin.edge(\"recession\",\"bull\",\"0.25\")\n",
    "fin.edge(\"recession\",\"bear\",\"0.25\")\n",
    "\n",
    "fin"
   ]
  },
  {
   "cell_type": "markdown",
   "metadata": {},
   "source": [
    "Probabilities\n",
    "-------------\n",
    "\n",
    "Let's number the weeks we are going to consider $k=0,1,2,...$.\n",
    "We can represent the probability that week $k$ is a bull market, a bear market, or in recession using a vector in $\\mathbb{R}^3$:\n",
    "\n",
    "$$\\mathbf{x}^{(k)} = \\begin{bmatrix}\n",
    "\\text{bull market prob.} \\\\\n",
    "\\text{bear market prob.} \\\\\n",
    "\\text{recession prob.}\n",
    "\\end{bmatrix}\n",
    "=\\begin{bmatrix}\n",
    "\\alpha_k \\\\\n",
    "\\beta_k \\\\\n",
    "\\gamma_k\n",
    "\\end{bmatrix}$$\n",
    "\n",
    "We'd like to describe the probabilities describing the next week -- i.e. the vector $\\mathbf{x}^{(k+1)}$.\n",
    "\n",
    "Observe that if we *knew for sure* that week $k$ was a bear market, then $\\mathbf{x}^{(k)} = \\mathbf{e}_1 = \n",
    "\\begin{bmatrix} \n",
    "1 \\\\ 0 \\\\ 0 \n",
    "\\end{bmatrix}$.\n",
    "But then we have more-or-less been told what $\\mathbf{x}^{(k+1)}$ is -- it must be \n",
    "$$\\mathbf{x}^{(k+1)} = \\begin{bmatrix}\n",
    "0.90\\\\\n",
    "0.15 \\\\\n",
    "0.25\n",
    "\\end{bmatrix}.$$\n",
    "\n",
    "In the general case, we see if $\\mathbf{x}^{(k)} = \\begin{bmatrix}\n",
    "\\alpha_k \\\\\n",
    "\\beta_k \\\\\n",
    "\\gamma_k\n",
    "\\end{bmatrix}$, then\n",
    "$$\\mathbf{x}^{(k+1)} = \\alpha_k \\begin{bmatrix}\n",
    "0.90\\\\\n",
    "0.15 \\\\\n",
    "0.25\n",
    "\\end{bmatrix} + \n",
    "\\beta_k \\begin{bmatrix}\n",
    "0.075\\\\\n",
    "0.8 \\\\\n",
    "0.25\n",
    "\\end{bmatrix} +\n",
    "\\gamma_k \\begin{bmatrix}\n",
    "0.025\\\\\n",
    "0.05 \\\\\n",
    "0.5\n",
    "\\end{bmatrix} = A \\cdot \\begin{bmatrix} \\alpha_k \\\\ \\beta_k \\\\ \\gamma_k \\end{bmatrix} = A \\cdot \\mathbf{x}^{(k)}$$\n",
    "where\n",
    "$$A = \\begin{bmatrix}\n",
    "0.90 & 0.075 & 0.025 \\\\\n",
    "0.15 & 0.80  & 0.05  \\\\\n",
    ".25 & 0.25  & 0.50 \n",
    "\\end{bmatrix}$$"
   ]
  },
  {
   "cell_type": "code",
   "execution_count": null,
   "metadata": {},
   "outputs": [],
   "source": [
    "import numpy as np\n",
    "from numpy.linalg import matrix_power\n",
    "\n",
    "def sbv(index,size):\n",
    "    return np.array([1.0 if i == index-1 else 0.0 for i in range(size)])\n",
    "\n",
    "A = np.array([[0.90 , 0.15 , 0.25],\n",
    "              [0.075, 0.80 , 0.25],\n",
    "              [0.025, 0.05 , 0.50]])\n",
    "\n",
    "d = {\"bull\"  : sbv(1,3),\n",
    "     \"bear\"  : sbv(2,3),\n",
    "     \"recess\": sbv(3,3)}"
   ]
  },
  {
   "cell_type": "code",
   "execution_count": null,
   "metadata": {},
   "outputs": [],
   "source": [
    "[f\"{x:6} probabilities: {A @ d[x]}\" for x in d.keys()]"
   ]
  },
  {
   "cell_type": "markdown",
   "metadata": {},
   "source": [
    "**Q1**\n",
    "======\n",
    "\n",
    "If there is a bear market in week $k$, what probabilities describe the market state 3 weeks later (i.e. in week $k+3$)?"
   ]
  },
  {
   "cell_type": "markdown",
   "metadata": {},
   "source": [
    "**Q2**\n",
    "=======\n",
    "\n",
    "Compute A^50. What do you observe? What about A^100?\n",
    "\n",
    "Explain what seems to happen to the vector $A^j \\cdot \\mathbf{x}^{(0)}$ for large $j$.\n"
   ]
  },
  {
   "cell_type": "code",
   "execution_count": null,
   "metadata": {},
   "outputs": [],
   "source": [
    "matrix_power(A,50)"
   ]
  },
  {
   "cell_type": "markdown",
   "metadata": {},
   "source": [
    "**Q3**\n",
    "======\n",
    "In the long run, what do you think the probability of a bull market is? Does this probability depend on the starting state of the market?"
   ]
  },
  {
   "cell_type": "code",
   "execution_count": null,
   "metadata": {},
   "outputs": [],
   "source": [
    "**Q3**. In the long run, what do you think the probability of a bull market is? Does this probability depend on the starting state of the market"
   ]
  },
  {
   "cell_type": "code",
   "execution_count": null,
   "metadata": {},
   "outputs": [],
   "source": []
  }
 ],
 "metadata": {
  "kernelspec": {
   "display_name": "Python 3",
   "language": "python",
   "name": "python3"
  },
  "language_info": {
   "codemirror_mode": {
    "name": "ipython",
    "version": 3
   },
   "file_extension": ".py",
   "mimetype": "text/x-python",
   "name": "python",
   "nbconvert_exporter": "python",
   "pygments_lexer": "ipython3",
   "version": "3.7.3"
  }
 },
 "nbformat": 4,
 "nbformat_minor": 4
}
