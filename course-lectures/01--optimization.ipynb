{
 "cells": [
  {
   "cell_type": "markdown",
   "metadata": {
    "lines_to_next_cell": 0
   },
   "source": [
    "{{{abstract}}}"
   ]
  },
  {
   "cell_type": "markdown",
   "metadata": {},
   "source": [
    "\n",
    "# Optimization -- Week 1\n",
    "\n",
    "<!-- #region -->\n",
    "# Optimization (overview)\n",
    "\n",
    "---\n",
    "Optimization is the most common application of mathematics. Here are some “real-world” examples:\n",
    "\n",
    "- **Business optimization**. A business manager attempts to understand and control parameters in order to maximize profit and minimize costs.\n",
    "\n",
    "- **Natural resource management**. Control harvest rates to maximize long-term yield, while conserving resources.\n",
    "\n",
    "- **Environmental regulation**. Governments sets standards to minimize environmental costs, while maximizing production of goods.\n",
    "\n",
    "- **IT management**. Computer system managers try to maximize throughput and minimize delays.\n",
    "\n",
    "- **Pharmaceutical optimization**. Doctors and pharmacists regulate drugs to minimize harmful side effects and maximize healing.\n",
    "\n",
    "---\n",
    "In this first part of our modeling course, we are going to discuss some sorts of optimization problems and related matters:\n",
    "\n",
    "- *single variable optimization* and *sensitivity analysis*\n",
    "\n",
    "- *multivariable optimization*\n",
    "\n",
    "- *multivariable optimization with constraints*\n",
    "\n",
    "\n",
    "---\n",
    "\n",
    "\n",
    "\n",
    "# Single Variable Optimization\n",
    "\n",
    "In this first section of our modeling class, we are going to examine a few *single variable* optimization problems. In some sense, these amount of complicated versions of *word problems* that you might have met in Calculus I (differential calculus).\n",
    "\n",
    "The calculus based solution can then be described roughly as follows: \n",
    "\n",
    "- find the function \\\\(f(x)\\\\) that measures the quantity that you desire to optimize, and the relevant interval \\\\([a,b]\\\\) of values of independent variable \\\\(x\\\\). \n",
    "- find the critical points \\\\(c_1,c_2,\\dots,c_N\\\\) of \\\\(f\\\\) in the interval \\\\((a,b)\\\\).\n",
    "- if \\\\(f\\\\) is a *nice enough* function, the maximum and minimum value of \\\\(f\\\\) will be found in the list\n",
    "\\\\(f(a),f(c_1),\\dots,f(c_N),f(b)\\\\) -- remember that you must check the endpoints \\\\(a,b\\\\)!"
   ]
  },
  {
   "cell_type": "markdown",
   "metadata": {},
   "source": [
    "\n",
    "\n",
    "\n",
    "## Example: Oil spill \n",
    "\n",
    "> An oil spill has contaminated 200 miles of Alaskan shoreline. The\n",
    "> shipping company responsible for the accident has been given 14 days\n",
    "> to clean up the shoreline, after which it will be required to pay a\n",
    "> fine of \\\\$10,000 per day for each day in which any part of the\n",
    "> shoreline remains uncleaned.\n",
    "\n",
    "*(Let's assume that the fine depends on fractional days, so that\n",
    "e.g. if the work is completed in 15.5 days, the company would pay a\n",
    "fine of \\\\(\\dfrac{3}{2}\\cdot 10000 = 15000.\\\\) I'll comment on this\n",
    "again below)*\n",
    "\n",
    "> Cleanup crews can be hired, and each crew cleans 5 miles of beach per week.\n",
    "> \n",
    "> There is one local cleanup crew available at a cost of \\\\$500 per day. \n",
    ">\n",
    "> Additional non-local crews can be hired. The hire of each non-local\n",
    "> crew incurs an \\\\$18,000 one-time travel cost. These additional\n",
    "> crews work for \\\\$800 per day for each crew (and each crew has the\n",
    "> same cleanup rate of 5 miles of beach per week).\n",
    "\n",
    "---\n",
    "\n",
    "Relevant parameters:\n",
    "\n",
    "* miles cleaned per crew per week = \\\\(5\\\\), so\n",
    "* \\\\(m\\\\) = miles cleaned per crew per day = \\\\(5/7\\\\)\n",
    "* \\\\(f\\\\) = fine charged per day = \\\\$\\\\(10,000\\\\)\n",
    "* \\\\(TC\\\\) = travel costs per outside crew = \\\\$\\\\(18,000\\\\)\n",
    "\n",
    "\n",
    "The main choice that the company must make is: \"how many outside crews to hire?\"\n",
    "\n",
    "* \\\\(n\\\\) = # of outside crews to hire\n",
    "\n",
    "According to the background description, there are a number of quantities that depend on this choice:\n",
    "\n",
    "* \\\\(t\\\\) = # of days for complete cleanup\n",
    "* \\\\(F\\\\) = fine to be paid\n",
    "* \\\\(C_{crew}\\\\) = payments to cleanup crews\n",
    "* \\\\(C_{tot}\\\\) = total cleanup cost = \\\\(F + C_{crew}\\\\)\n",
    "   \n",
    "---\n",
    "\n",
    "Let's give **mathematical expressions** for these quantities:\n",
    "\n",
    "* \\\\(t = 200\\cdot \\dfrac{1}{n+1} \\cdot \\dfrac{1}{m}\\\\)\n",
    "\n",
    "(Indeed, \\\\(n+1\\\\) crews working at a rate of \\\\(m\\\\) miles per day\n",
    "will clean 200 miles of beach in the indicated number of days)\n",
    "\n",
    "* \\\\(F= \\begin{cases} 0 & \\text{if $t<14$} \\\\ f\\cdot(t-14) & \\text{if\n",
    "  $t \\ge 14$} \\end{cases} \\\\)\n",
    "\n",
    "(Indeed, no fine if work is completed within two weeks; otherwise, the\n",
    "fine is given by the indicated formula)\n",
    "\n",
    "* \\\\(C_{crew} = 500\\cdot t + 800\\cdot t\\cdot n + TC\\cdot n\\\\)\n",
    "\n",
    "* \\\\(C_{tot} = F + C_{crew}\\\\)\n",
    "    \n",
    "---\t\n",
    "\t\n",
    "Now let's give `python` code for computing these quantities.\n",
    "\n",
    "Note that we use the parameter values as *default values* for some of the arguments\n",
    "of the *crew_cost* and *cost* functions."
   ]
  },
  {
   "cell_type": "code",
   "execution_count": null,
   "metadata": {},
   "outputs": [],
   "source": [
    "def time(n,miles,cleanup_rate): \n",
    "    # time in days required for cleanup \n",
    "    # by *n* *non-local* cleanup crews \n",
    "    #  (together with the one local crew)\n",
    "    # of *miles* of shoreline, \n",
    "    # where each crew works at the indicated cleanup-rate\n",
    "    return miles/((n+1)*cleanup_rate)\n",
    "\n",
    "def F(t,fine_per_day): \n",
    "    # The total fine imposed. Depends on:\n",
    "    # t = # of days for complete cleanup, and \n",
    "    # fine = daily fine imposed. \n",
    "    return 0 if (t<14) else fine_per_day*(t-14)\n",
    "\n",
    "def crew_cost(n,miles=200,cleanup_rate=5.0/7,tc=18000):\n",
    "    # cost in payments to crews. Depends on\n",
    "    # n = number of non-local crews hired\n",
    "    # cleanup_rate, and \n",
    "    # tc_rate = travel costs per non-local crew\n",
    "    t=time(n,miles,cleanup_rate)\n",
    "    return 500*t + 800*t*n + tc*n\n",
    "\n",
    "def cost(n,fine_per_day=10000,miles=200,cleanup_rate=5.0/7,tc=18000):\n",
    "    t=time(n,miles,cleanup_rate)\n",
    "    return F(t,fine_per_day) + crew_cost(n,miles,cleanup_rate,tc) "
   ]
  },
  {
   "cell_type": "markdown",
   "metadata": {},
   "source": [
    "### Let's first just make a table of results\n",
    "\n",
    "In our table, the rows will contain the values of the various\n",
    "quantities for possible values of \\\\(n\\\\), the number of \"outside\"\n",
    "cleanup crews hired.\n",
    "\n",
    "For this, we are going to use python's [**Pandas**\n",
    "module](https://pandas.pydata.org/docs/index.html).  We'll use the\n",
    "\"DataFrame\" data structure (which is a bit like a python dictionary\n",
    "for which the keys are the column headers and the values are the\n",
    "column data)."
   ]
  },
  {
   "cell_type": "code",
   "execution_count": null,
   "metadata": {},
   "outputs": [],
   "source": [
    "import pandas as pd\n",
    "\n",
    "## The following overrides the usual display formatting of floating point numbers. \n",
    "## It is just an aesthetic choice...\n",
    "\n",
    "pd.set_option('display.float_format', lambda x: \"{:,.2f}\".format(x))"
   ]
  },
  {
   "cell_type": "code",
   "execution_count": null,
   "metadata": {},
   "outputs": [],
   "source": [
    "def oil_spill_costs(crew_range   = range(0,25),\n",
    "                    miles        = 200,\n",
    "                    fine_per_day = 10000,\n",
    "                    cleanup_rate = 5.0/7,\n",
    "                    tc=18000):\n",
    "    return pd.DataFrame(\n",
    "            {'#crews' : crew_range,\n",
    "             'cost'   : map( lambda n: cost(n,fine_per_day,miles,cleanup_rate,tc) , crew_range),\n",
    "             'days'   : map( lambda n: time(n,miles,cleanup_rate)                 , crew_range),\n",
    "             'fine'   : map( lambda n: F(time(n,miles,cleanup_rate),fine_per_day) , crew_range)\n",
    "            },\n",
    "            index=crew_range)\n",
    "    "
   ]
  },
  {
   "cell_type": "code",
   "execution_count": null,
   "metadata": {},
   "outputs": [],
   "source": [
    "oil_spill_costs()  ## Compute use the *default* parameter values."
   ]
  },
  {
   "cell_type": "markdown",
   "metadata": {},
   "source": [
    "We can of course just scan the columns with our eyes to see where the costs are minimized. But we can also use *pandas* API-functions.\n",
    "\n",
    "In the terminology of *pandas*, we'll extract the *costs* column `df['cost']` of the \"dataframe\" `df` as a *series*, and then use the `idxmin` method to find the *index* `j` at which the costs are minimized.\n",
    "Finally, the loc property of `df` allows to select the data `df.loc[j]` in the row with index label `j`."
   ]
  },
  {
   "cell_type": "code",
   "execution_count": null,
   "metadata": {},
   "outputs": [],
   "source": [
    "df = oil_spill_costs()\n",
    "\n",
    "df.loc[ df['cost'].idxmin() ]"
   ]
  },
  {
   "cell_type": "markdown",
   "metadata": {},
   "source": [
    "### <a id='minimal_cost_cell'> Minimal costs (for basic parameters)</a>\n",
    "\n",
    "From the preceding calculation, it appears that the cost is minimized by hiring \\\\(n=11\\\\) outside crews. With that number of crews, cleanup takes slightly more than 3 weeks with a total cost of \\\\$508K (including a fine of \\\\$93K).\n",
    "\n",
    "Below, we'll use some calculus to confirm this observation!!!\n",
    "\n",
    "But first, notice that it is easy to change parameters. For example, let's see what would happen if the fine were doubled and if instead 250 miles of coast were contaminated."
   ]
  },
  {
   "cell_type": "code",
   "execution_count": null,
   "metadata": {},
   "outputs": [],
   "source": [
    "df=oil_spill_costs(miles=250,fine_per_day=20000)\n",
    "\n",
    "df.loc[ df['cost'].idxmin() ]"
   ]
  },
  {
   "cell_type": "markdown",
   "metadata": {},
   "source": [
    "And here is what happens if the crews are actually able to clean up the beach at a rate of 1 mile/day, instead:"
   ]
  },
  {
   "cell_type": "code",
   "execution_count": null,
   "metadata": {},
   "outputs": [],
   "source": [
    "df=oil_spill_costs(cleanup_rate=1.0)\n",
    "\n",
    "df.loc[ df['cost'].idxmin() ]"
   ]
  },
  {
   "cell_type": "markdown",
   "metadata": {},
   "source": [
    "## <a id=\"calculus_cell\">Applying calculus to the problem</a>\n",
    "\n",
    "We are going to do our analysis with the \"default\" values \\\\(m = 5.0/7\\\\), \\\\(TC=18000\\\\), \\\\(f=10000\\\\), for 200 miles of coast.\n",
    "\n",
    "Recall the formulas:\n",
    "\n",
    "* \\\\(t = 200\\cdot \\dfrac{1}{n+1} \\cdot \\dfrac{1}{5/7} = \\dfrac{280}{n+1}\\\\)\n",
    "\n",
    "* \\\\(F= \\begin{cases}  0 &  \\text{if $t<14$} \\\\ 10000\\cdot(t-14) & \\text{if $t \\ge 14$} \\end{cases} \\\\)\n",
    "\n",
    "* \\\\(C_{crew} = 500\\cdot t + 800\\cdot t\\cdot n + 18000\\cdot n\\\\)\n",
    "\n",
    "* \\\\(C_{tot} = F + C_{crew}\\\\)\n",
    "\n",
    "\\\\(C_{tot}\\\\) is expressed here as a function of both \\\\(t\\\\) and \\\\(n\\\\). But of course, \\\\(t\\\\) is determined by \\\\(n\\\\).\n",
    "\n",
    "We want to express \\\\(C_{tot}\\\\) as a function only of \\\\(n\\\\). Of course, the obstacle here is that the fine \\\\(F\\\\) is not expressed directly as a function of \\\\(n\\\\), and the best way to deal with this is to consider different cases.\n",
    "\n",
    "We first ask the question: \"how many crews would we need if we were to clean\n",
    "everything up in exactly 14 days?\"\n",
    "\n",
    "For this we must solve the equation \\\\(t(n)=14\\\\); i.e.: \n",
    "\\\\[14 = \\dfrac{280}{1+n}\\\\]\n",
    "\n",
    "Thus, \\\\(n+1=\\dfrac{280}{14}\\\\). We find that\n",
    "\\\\(n+1 = 20\\\\) so that \\\\(n=19\\\\). In other words, if 19 external crews are hired, work is completed in two weeks.\n",
    "\n",
    "Thus we see that for \\\\(n \\ge 19\\\\) we have \\\\(F = 0\\\\) and \\\\(C_{tot} = C_{crew}\\\\), while for \\\\(n < 19\\\\)\n",
    "\\\\[F(n) = 10000\\cdot \\left (\\dfrac{280}{1+n} - 14\\right)\\\\] \n",
    "\n",
    "The remaining expenses are the costs associated with hiring cleanup crews. They are\n",
    "given by the function:\n",
    "\n",
    "\\\\[C_{crew}(n) = \\dfrac{500 \\cdot 280}{1+n}+\\dfrac{800 \\cdot 280}{1+n}⋅n+18000⋅n \\\\]\n",
    "\n",
    "And, the total cost function is given as a function of \\\\(n\\\\) by:\n",
    "\\\\[C_{tot}(n) =  \\left \\{ \\begin{matrix} F(n) + C_{crew}(n) & n < 19 \\\\ C_{crew}(n) & n \\ge 19\\end{matrix} \\right .\\\\] \n",
    "\n",
    "\n",
    "Of course, in python we find these functions as follows:\n",
    "\n",
    "* `fine(n)   = f(time(n,miles=200,cleanup_rate=5.0/7),fine_per_day=10000)`\n",
    "* `c_crew(n) = crew_cost(n,miles=200,cleanup_rate=5.0/7,tc=18000)`\n",
    "* `c_tot(n)  = c_crew(n) + fine(n)`"
   ]
  },
  {
   "cell_type": "code",
   "execution_count": null,
   "metadata": {},
   "outputs": [],
   "source": [
    "def fine(n):   return F(time(n,miles=200,cleanup_rate=5.0/7),fine_per_day=10000)\n",
    "def c_crew(n): return crew_cost(n,miles=200,cleanup_rate=5.0/7,tc=18000)\n",
    "def c_tot(n):  return c_crew(n) + fine(n\n",
    "                                      )"
   ]
  },
  {
   "cell_type": "markdown",
   "metadata": {},
   "source": [
    "### Graphs\n",
    "\n",
    "We can use python's [matplotlib](https://matplotlib.org/) package to draw graphs of the functions\n",
    "`c_tot` and `fine`.\n"
   ]
  },
  {
   "cell_type": "code",
   "execution_count": null,
   "metadata": {},
   "outputs": [],
   "source": [
    "import matplotlib.pyplot as plt\n",
    "import numpy as np\n",
    "x = np.linspace(2, 30, 200)\n",
    "\n",
    "fig, ax = plt.subplots(figsize=(12,6))  \n",
    "ax.plot(x,np.array([c_tot(n) for n in x]),label=\"C_tot(n)\")\n",
    "ax.plot(x,np.array([fine(n)  for n in x]),label=\"Fine(n)\")\n",
    "\n",
    "ax.set_xlabel(\"# crews\")\n",
    "ax.set_ylabel(\"total cost in $\")\n",
    "ax.legend()\n",
    "\n",
    "ax.axvline(x=19,                   ## where the \"fine-graph\" bifurcates\n",
    "           color=\"red\",   \n",
    "           dashes=[1,4])            \n",
    "ax.axvline(x=11.25,                ## we'll see (below) that the min of C occurs here.\n",
    "           color=\"green\", \n",
    "           dashes=[1,4])            \n",
    "ax.set_title(\"Cleanup costs\")\n",
    "pass"
   ]
  },
  {
   "cell_type": "markdown",
   "metadata": {},
   "source": [
    "### Some symbolic calculations\n",
    "\n",
    "It is not really difficult to differentiate the functions \\\\(F(n)\\\\) (for \\\\(0 \\le n \\le 19\\\\)),  and \\\\(C_{crew}(n)\\\\) [described above](#calculus_cell) by hand. But let's see how we could do it using symbolic calculations in python's [symbolic mathematics package](https://www.sympy.org/en/index.html).\n",
    "\n",
    "We will make a \"symbolic variable\" we'll call `y`.\n",
    "\n",
    "Now we can make a symbolic version `s_cost_low` of \\\\(C_{tot}(n)\\\\) by evaluating \\\\(n\\\\) at `y`.\n",
    "\n",
    "We'll write:\n",
    "\n",
    "`s_cost_low = c_crew(y) - 10000*(14-time(y,miles=200,cleanup_rate=5.0/7))`\n",
    "\n",
    "We can't evaluate the `fine` function at `y` because it is not legal to test inequalities with the symbol `y`.\n",
    "\n",
    "The symbolic cost expression `s_cost_low` matches \\\\(C_{tot}(n)\\\\) for \\\\(n\\\\) in the interval\n",
    "\\\\([0,19)\\\\).\n",
    "\n",
    "We must also understand the behaviour of \\\\(C_{tot}(n)\\\\) for \\\\(n>19\\\\). For that, we define\n",
    "\n",
    "`s_cost_high = c_crew(y)`\n",
    "\n",
    "So the symbolic expression `s_cost_high` matches \\\\(C_{tot}(n)\\\\) for \\\\(n \\ge 19\\\\).\n",
    "\n",
    "Now *sympy* permits us to symbolically differentiate these expressions:\n",
    "\n",
    "```\n",
    "ds_cost_low = sp.diff(s_cost_low,y)\n",
    "ds_cost_high = sp.diff(s_cost_high,y)\n",
    "```\n",
    "We'll carry this out in the following cell:"
   ]
  },
  {
   "cell_type": "code",
   "execution_count": null,
   "metadata": {},
   "outputs": [],
   "source": [
    "import sympy as sp\n",
    "\n",
    "y = sp.Symbol('y')    # symbolic variable\n",
    "\n",
    "s_cost_low  = c_crew(y) - 10000*(14-time(y,miles=200,cleanup_rate = 5.0/7))\n",
    "s_cost_high = c_crew(y)\n",
    "\n",
    "ds_cost_low  = sp.diff(s_cost_low,y)  # first derivative, for n<19\n",
    "ds_cost_high = sp.diff(s_cost_high,y) # first derivative for n>19\n",
    "\n",
    "dds_cost_low = sp.diff(ds_cost_low,y) # second derivative, for n<19\n",
    "\n",
    "print(s_cost_low)\n",
    "print()\n",
    "print(ds_cost_low)"
   ]
  },
  {
   "cell_type": "markdown",
   "metadata": {},
   "source": [
    "Remember that our goal is to find the minimum value(s) of the function \\\\(C_{tot}(n)\\\\) for \\\\(n\\\\) in the interval \\\\([0,\\infty)\\\\).\n",
    "\n",
    "We are going to argue a few things:\n",
    "1. \\\\(C_{tot}\\\\) is increasing on the interval \\\\((19,\\infty)\\\\)\n",
    "2. \\\\(C_{tot}\\\\) has a unique critical point in the interval \\\\((0,19)\\\\), which is a local minimum"
   ]
  },
  {
   "cell_type": "markdown",
   "metadata": {},
   "source": [
    "To argue 1., just need to show that \\\\(C'(n)\\\\) is positive on \\\\((19,\\infty)\\\\).\n",
    "\n",
    "But we've symbolically computed the derivative `ds_cost_high`.\n",
    "\n",
    "And we can evaluate this symbolic expression at \\\\(y=19\\\\) by using\n",
    "`ds_cost_high.subs([(y,19)])`. Here `subs` means *substitution*.\n",
    "\n",
    "We see that \\\\(C'(19)\\\\) is positive:"
   ]
  },
  {
   "cell_type": "code",
   "execution_count": null,
   "metadata": {},
   "outputs": [],
   "source": [
    "ds_cost_high.subs([(y,19)])"
   ]
  },
  {
   "cell_type": "markdown",
   "metadata": {},
   "source": [
    "And this derivative is never zero. Indeed we can confirm using\n",
    "\n",
    "`sp.solve(ds_cost_high,y)`\n",
    "\n",
    "that the only solutions for \\\\(C_{crew}'(z) = 0\\\\) are complex numbers with non-zero imaginary part:"
   ]
  },
  {
   "cell_type": "code",
   "execution_count": null,
   "metadata": {},
   "outputs": [],
   "source": [
    "sp.solve(ds_cost_high,y)"
   ]
  },
  {
   "cell_type": "markdown",
   "metadata": {},
   "source": [
    "So since \\\\(C_{tot}'(n)\\\\) is continuous on \\\\((19,\\infty)\\\\), we conclude that \\\\(C_{tot}'(n) > 0\\\\) on \\\\((19,\\infty)\\\\) which confirms 1. above.\n",
    "\n",
    "For 2., let's first look at a graph of the derivative \\\\(C'(n)\\\\)"
   ]
  },
  {
   "cell_type": "code",
   "execution_count": null,
   "metadata": {},
   "outputs": [],
   "source": [
    "\n",
    "def diff(t):\n",
    "    return ds_cost_low.subs([(y,t)])\n",
    "\n",
    "x = np.linspace(7, 19, 200)\n",
    "\n",
    "fig, ax = plt.subplots(figsize=(12,6))  \n",
    "ax.plot(x,np.array([diff(z) for z in x]),label=\"(dC/dn)\")\n",
    "ax.legend()\n",
    "ax.set_xlabel(\"#crews\")\n",
    "ax.set_ylabel(\"dollars / crew\")\n",
    "ax.axvline(x=11.28368,color=\"green\",dashes=[1,4])\n",
    "pass"
   ]
  },
  {
   "cell_type": "markdown",
   "metadata": {},
   "source": [
    "The graph suggests that the equation \\\\(C'(n)=0\\\\) has only one solution in the interval \\\\((0,19)\\\\)\n",
    "\n",
    "We can confirm this by again using the sympy symbolic solver to find the solutions to \\\\(C'(n) = 0\\\\), as follows:"
   ]
  },
  {
   "cell_type": "code",
   "execution_count": null,
   "metadata": {},
   "outputs": [],
   "source": [
    "# find the critical points for our cost function\n",
    "#\n",
    "\n",
    "sp.solve(ds_cost_low,y)"
   ]
  },
  {
   "cell_type": "markdown",
   "metadata": {},
   "source": [
    "So on the interval \\\\((0,19)\\\\) the cost function has only one critical point, at \\\\(n=11.28368\\\\).\n",
    "\n",
    "In order to see that \\\\(n=11.28368\\\\) minimizes the cost function, we only need to compare the value of \\\\(C\\\\) at the endpoints with the value at \\\\(n=11.28368\\\\).\n",
    "\n",
    "We compute:"
   ]
  },
  {
   "cell_type": "code",
   "execution_count": null,
   "metadata": {},
   "outputs": [],
   "source": [
    "[c_tot(0),c_tot(11.28368),c_tot(19)]"
   ]
  },
  {
   "cell_type": "markdown",
   "metadata": {},
   "source": [
    "This now confirms our [earlier observation](#minimal_cost_cell)  that \\\\(n=11\\\\) minimizes costs.\n",
    "\n"
   ]
  },
  {
   "cell_type": "markdown",
   "metadata": {},
   "source": [
    "# Follow-up: Some general ideas behind modeling\n",
    "\n",
    "1. Ask the question:\n",
    "    * Here the question should be phrased correctly in mathematical terms; this will help make clear what must be found.\n",
    "    * Make a list of all the variables and constants; include units as appropriate.\n",
    "    * State all assumptions about these variables and constants; include equations and inequalities.\n",
    "    * Check units to make sure things make sense.\n",
    "    * State your objective in mathematical terms (i.e., \"minimization problem\" in the example above).\n",
    "    * It may even be useful to make an educated guess at this point on what the answer should be. \n",
    "<!-- -->\n",
    "2. Select the modeling approach.\n",
    "    - Choose a general solution procedure to solve the mathematical problem (in our case first and second derivative tests).\n",
    "    - This might be the most difficult part and to a large extent depends on just good experience. That’s our goal...to get some experience.\n",
    "<!-- -->\n",
    "3. Formulate the model.\n",
    "    - Restate the question in terms of your model (in our example, what function are we taking the derivative of?).\n",
    "    - You may need to relabel or redefine things to make it work. This is where the mathematical model and real physical model may start to differ...\n",
    "<!-- -->\n",
    "4. Solve the model.\n",
    "    - Apply Step 2 to Step 3.\n",
    "    - Use any useful technologies, such as computation if necessary, but consider the errors that they may introduce.\n",
    "<!-- -->\n",
    "5. Answer the question.\n",
    "    - Rephrase the result of Step 4 in non-technical terms.\n",
    "    - Goal is now to make your answer understandable to the person that posed it, keeping in mind that person may not be a mathematician.\n",
    "    - Think about what the errors might be, or how realistic the answer actually is.\n",
    "    - How did it compare to what expectations?\n",
    "\n",
    "Of course this is very general and may be problem dependent, but it at least keeps us true to what\n",
    "we are trying to do with modeling."
   ]
  }
 ],
 "metadata": {
  "jupytext": {
   "formats": "ipynb,md"
  },
  "kernelspec": {
   "display_name": "Python 3",
   "language": "python",
   "name": "python3"
  }
 },
 "nbformat": 4,
 "nbformat_minor": 4
}
