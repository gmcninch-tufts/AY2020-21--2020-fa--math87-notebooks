{
 "cells": [
  {
   "cell_type": "markdown",
   "metadata": {
    "lines_to_next_cell": 0
   },
   "source": [
    "{{{abstract}}}"
   ]
  },
  {
   "cell_type": "code",
   "execution_count": null,
   "metadata": {},
   "outputs": [],
   "source": [
    "\n",
    "```python\n",
    "import matplotlib\n",
    "import matplotlib.pyplot as plt\n",
    "import numpy as np\n",
    "```\n",
    "\n",
    "```python\n",
    "# Data for plotting\n",
    "t = np.linspace(0,2,num=2000)\n",
    "s = 1 + np.sin(4 * np.pi * t)\n",
    "```\n",
    "\n",
    "```python\n",
    "fig, (ax1,ax2) = plt.subplots(2)\n",
    "ax1.plot(t, s)\n",
    "ax2.plot(t,-s)\n",
    "\n",
    "ax1.set(xlabel='time (s)', ylabel='voltage (mV)',\n",
    "       title='About as simple as it gets, folks')\n",
    "ax1.grid()\n",
    "ax2.grid()\n",
    "```\n",
    "\n",
    "```python\n",
    "fig.savefig(\"test.png\")\n",
    "plt.show()\n",
    "```\n",
    "\n",
    "```python\n",
    "np.logspace(0,3,num=5)\n",
    "```\n",
    "\n",
    "```python\n",
    "\n",
    "```"
   ]
  }
 ],
 "metadata": {
  "jupytext": {
   "formats": "ipynb,md"
  },
  "kernelspec": {
   "display_name": "Python 3",
   "language": "python",
   "name": "python3"
  },
  "language_info": {
   "codemirror_mode": {
    "name": "ipython",
    "version": 3
   },
   "file_extension": ".py",
   "mimetype": "text/x-python",
   "name": "python",
   "nbconvert_exporter": "python",
   "pygments_lexer": "ipython3",
   "version": "3.7.3"
  }
 },
 "nbformat": 4,
 "nbformat_minor": 4
}
