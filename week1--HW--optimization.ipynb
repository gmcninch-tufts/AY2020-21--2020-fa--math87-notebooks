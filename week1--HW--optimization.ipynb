{
 "cells": [
  {
   "cell_type": "markdown",
   "metadata": {
    "lines_to_next_cell": 0
   },
   "source": [
    "{{{abstract}}}"
   ]
  },
  {
   "cell_type": "markdown",
   "metadata": {},
   "source": [
    "\n",
    "## (1.1) An optimization question in auto manufacturing\n",
    "\n",
    "An automobile manufacturer makes a profit of $1,500 per unit on the\n",
    "sale of a certain model. It is estimated that for every $100 of\n",
    "rebate, the number of units sold in a given month will increase by 15%.\n",
    "\n",
    "a. What amount of rebate will maximize profit for the month? Model as\n",
    "a one-variable optimization problem.\n",
    "\n",
    "b. Compute the sensitivity of your answer to the 15%\n",
    "assumption. Consider both the amount of rebate and the resulting\n",
    "profit.\n",
    "\n",
    "c. Suppose that rebates actually generate only a 10% increase in sales\n",
    "per $100. What is the effect? What if the response is somewhere\n",
    "between 10 and 15% per $100 of rebate?\n",
    "\n",
    "d. Under what circumstances would a rebate offer cause a reduction in\n",
    "  profit?\n",
    "\n",
    "\n",
    "## (1.2) Blood typing\n",
    "\n",
    "\n",
    "$$\\int_0^\\infty f(x)dx$$\n",
    "\n",
    "\n",
    "\n",
    "Human blood is generally classified in the “ABO” system, with four\n",
    "blood types: `A`, `B`, `O`, and `AB`. These four types reflect six\n",
    "gene pairs (genotypes), with blood type `A` corresponding to gene\n",
    "pairs `AA` and `AO`, blood type `B` corresponding to gene pairs `BB`\n",
    "and `BO`, blood type `O` corresponding to gene pair `OO`, and blood\n",
    "type `AB` corresponding to gene pair `AB`. Let $p$  be the proportion of\n",
    "gene `A` in the population, $q$ be the proportion of gene `B` in the\n",
    "population, and $r$ be the proportion of gene `O` in the population. Note\n",
    "that $p + q + r = 1$.\n",
    "\n",
    "a. The Hardy-Weinberg principle states that $p$, $q$, and\n",
    "$r$ are fixed from generation to generation, as are the\n",
    "frequencies of the different genotypes. Under this assumption, what is\n",
    "the probability that an individual has genotype `AA`? `BB`? `OO`? What\n",
    "is the probability of an individual having two different genes?\n",
    "\n",
    "b. Find the maximum percentage of the population that can have two\n",
    "different genes under the Hardy-Weinberg principle in two different\n",
    "ways, by directly maximizing a function of only two variables and by\n",
    "using the method of Lagrange multipliers.\n",
    "\n",
    "c. Can you say what the Lagrange multiplier represents in the above\n",
    "example?"
   ]
  }
 ],
 "metadata": {
  "jupytext": {
   "cell_metadata_filter": "-all",
   "main_language": "python",
   "notebook_metadata_filter": "-all"
  }
 },
 "nbformat": 4,
 "nbformat_minor": 4
}
